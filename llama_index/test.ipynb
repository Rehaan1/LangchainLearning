{
 "cells": [
  {
   "cell_type": "code",
   "execution_count": 2,
   "metadata": {},
   "outputs": [
    {
     "data": {
      "text/plain": [
       "True"
      ]
     },
     "execution_count": 2,
     "metadata": {},
     "output_type": "execute_result"
    }
   ],
   "source": [
    "# RAG\n",
    "import os\n",
    "from dotenv import load_dotenv\n",
    "\n",
    "load_dotenv()"
   ]
  },
  {
   "cell_type": "code",
   "execution_count": 3,
   "metadata": {},
   "outputs": [],
   "source": [
    "os.environ[\"OPENAI_API_KEY\"] = os.getenv(\"OPENAI_API_KEY\")"
   ]
  },
  {
   "cell_type": "code",
   "execution_count": 5,
   "metadata": {},
   "outputs": [],
   "source": [
    "from llama_index.core import VectorStoreIndex, SimpleDirectoryReader\n",
    "\n",
    "documents = SimpleDirectoryReader(\"pdfs\").load_data()"
   ]
  },
  {
   "cell_type": "code",
   "execution_count": 6,
   "metadata": {},
   "outputs": [
    {
     "data": {
      "text/plain": [
       "[Document(id_='723d904b-47c3-49dc-9672-4a62f3561437', embedding=None, metadata={'page_label': '1', 'file_name': 'sre_runbook.pdf', 'file_path': 'e:\\\\PROJECTS_FOR_REFERRAL\\\\GenAI\\\\llama_index\\\\pdfs\\\\sre_runbook.pdf', 'file_type': 'application/pdf', 'file_size': 81000, 'creation_date': '2024-05-28', 'last_modified_date': '2024-05-28'}, excluded_embed_metadata_keys=['file_name', 'file_type', 'file_size', 'creation_date', 'last_modified_date', 'last_accessed_date'], excluded_llm_metadata_keys=['file_name', 'file_type', 'file_size', 'creation_date', 'last_modified_date', 'last_accessed_date'], relationships={}, text='Sample\\nRunBook\\nfor\\nHandling\\nBackend\\nSystem\\nFailures\\nTable\\nof\\nContents\\n1.\\nIntroduction\\n2.\\nDatabase\\nConnection\\nFailures\\n●\\nIdentification\\n●\\nImmediate\\nActions\\n●\\nT roubleshooting\\nSteps\\n●\\nResolution\\n3.\\nAPI\\nEndpoint\\nFailures\\n●\\nIdentification\\n●\\nImmediate\\nActions\\n●\\nT roubleshooting\\nSteps\\n●\\nResolution\\n4.\\nService\\nT imeout\\nIssues\\n●\\nIdentification\\n●\\nImmediate\\nActions\\n●\\nT roubleshooting\\nSteps\\n●\\nResolution\\n5.\\nHigh\\nCPU\\nUsage\\n●\\nIdentification\\n●\\nImmediate\\nActions\\n●\\nT roubleshooting\\nSteps\\n●\\nResolution\\n6.\\nContact\\nInformation\\nIntroduction\\nThis\\nRunBook\\nprovides\\ndetailed\\nprocedures\\nfor\\nhandling\\ncommon\\nbackend\\nsystem\\nfailures,\\nincluding\\ndatabase\\nconnection\\nfailures,\\nAPI\\nendpoint\\nfailures,\\nservice\\ntimeout', start_char_idx=None, end_char_idx=None, text_template='{metadata_str}\\n\\n{content}', metadata_template='{key}: {value}', metadata_seperator='\\n'),\n",
       " Document(id_='e1c8bd9f-40fc-4e20-bea6-b24ec43c72eb', embedding=None, metadata={'page_label': '2', 'file_name': 'sre_runbook.pdf', 'file_path': 'e:\\\\PROJECTS_FOR_REFERRAL\\\\GenAI\\\\llama_index\\\\pdfs\\\\sre_runbook.pdf', 'file_type': 'application/pdf', 'file_size': 81000, 'creation_date': '2024-05-28', 'last_modified_date': '2024-05-28'}, excluded_embed_metadata_keys=['file_name', 'file_type', 'file_size', 'creation_date', 'last_modified_date', 'last_accessed_date'], excluded_llm_metadata_keys=['file_name', 'file_type', 'file_size', 'creation_date', 'last_modified_date', 'last_accessed_date'], relationships={}, text='issues,\\nand\\nhigh\\nCPU\\nusage.\\nEach\\nsection\\nincludes\\nsteps\\nfor\\nidentification,\\nimmediate\\nactions,\\ntroubleshooting,\\nand\\nresolution.\\nThis\\ndocument\\nis\\nintended\\nfor\\nuse\\nby\\nSite\\nReliability\\nEngineers\\n(SREs)\\nand\\nother\\ntechnical\\nstaf f\\nresponsible\\nfor\\nmaintaining\\nthe\\nreliability\\nand\\nperformance\\nof\\nbackend\\nsystems.\\nDatabase\\nConnection\\nFailures\\nIdentification\\n1.\\nMonitoring\\nAlerts:\\n●\\nCheck\\nfor\\nalerts\\nrelated\\nto\\ndatabase\\nconnectivity\\nissues\\nin\\nyour\\nmonitoring\\nsystem\\n(e.g.,\\nPrometheus,\\nDatadog).\\n●\\nLook\\nfor\\nspecific\\nerror\\nmessages\\nsuch\\nas\\n\"Unable\\nto\\nconnect\\nto\\ndatabase,\"\\n\"Connection\\nrefused,\"\\nor\\n\"T imeout\"\\nin\\nthe\\napplication\\nlogs.\\n2.\\nUser\\nReports:\\n●\\nUsers\\nmay\\nreport\\nissues\\nsuch\\nas\\n\"unable\\nto\\nretrieve\\ndata,\"\\n\"database\\ntimeout,\"\\nor\\n\"application\\nerrors\\nrelated\\nto\\ndata\\nretrieval.\"\\nImmediate\\nActions\\n1.\\nAcknowledge\\nthe\\nAlert:\\n●\\nConfirm\\nreceipt\\nof\\nthe\\nalert\\nin\\nthe\\nmonitoring\\nsystem\\nto\\nstop\\nfurther\\nnotifications.\\n2.\\nCheck\\nService\\nHealth:\\n●\\nV erify\\nthe\\nstatus\\nof\\nthe\\ndatabase\\nservice\\n(e.g.,\\nusing\\nsystemctl\\nstatus\\nmysql\\nfor\\nMySQL,\\nor\\nchecking\\nthe\\ncloud\\nprovider ’ s\\ndashboard\\nfor\\nmanaged\\ndatabases).\\nTroubleshooting\\nSteps\\n1.\\nNetwork\\nConnectivity:', start_char_idx=None, end_char_idx=None, text_template='{metadata_str}\\n\\n{content}', metadata_template='{key}: {value}', metadata_seperator='\\n'),\n",
       " Document(id_='7e6f362f-d761-49d5-a33a-03698ae057d9', embedding=None, metadata={'page_label': '3', 'file_name': 'sre_runbook.pdf', 'file_path': 'e:\\\\PROJECTS_FOR_REFERRAL\\\\GenAI\\\\llama_index\\\\pdfs\\\\sre_runbook.pdf', 'file_type': 'application/pdf', 'file_size': 81000, 'creation_date': '2024-05-28', 'last_modified_date': '2024-05-28'}, excluded_embed_metadata_keys=['file_name', 'file_type', 'file_size', 'creation_date', 'last_modified_date', 'last_accessed_date'], excluded_llm_metadata_keys=['file_name', 'file_type', 'file_size', 'creation_date', 'last_modified_date', 'last_accessed_date'], relationships={}, text='●\\nT est\\nnetwork\\nconnectivity\\nbetween\\nthe\\napplication\\nserver\\nand\\nthe\\ndatabase\\nserver\\nusing\\nping\\nand\\ntelnet\\ncommands:\\nping\\n<database_server_ip>\\ntelnet\\n<database_server_ip>\\n<database_port>\\n●\\nV erify\\nfirewall\\nrules\\nand\\nnetwork\\nsecurity\\ngroups\\nto\\nensure\\nthey\\nallow\\ntraf fic\\nbetween\\nthe\\napplication\\nand\\ndatabase\\nservers.\\n2.\\nDatabase\\nLogs:\\n●\\nReview\\ndatabase\\nlogs\\nfor\\nany\\nerrors\\nor\\nwarnings:\\ntail\\n-f\\n/var/log/mysql/error .log\\n●\\nLook\\nfor\\nmessages\\nindicating\\nissues\\nsuch\\nas\\nresource\\nexhaustion,\\nconnection\\nlimits,\\nor\\ncorrupted\\ndata\\nfiles.\\n3.\\nConfiguration\\nFiles:\\n●\\nCheck\\ndatabase\\nconfiguration\\nfiles\\nfor\\nany\\nrecent\\nchanges\\nthat\\ncould\\nimpact\\nconnectivity\\n(e.g.,\\n/etc/mysql/my .cnf\\nfor\\nMySQL).\\nResolution\\n1.\\nRestart\\nDatabase\\nService:\\n●\\nRestart\\nthe\\ndatabase\\nservice\\nand\\nverify\\nconnectivity:\\nsudo\\nsystemctl\\nrestart\\nmysql\\n●\\nConfirm\\nthe\\nservice\\nis\\nrunning\\nproperly:\\nsudo\\nsystemctl\\nstatus\\nmysql\\n2.\\nFix\\nConfiguration\\nIssues:\\n●\\nCorrect\\nany\\nmisconfigurations\\nfound\\nin\\nthe\\ndatabase\\nconfiguration\\nfiles.\\nEnsure\\nsettings\\nsuch\\nas\\nconnection\\nlimits\\nand\\nnetwork\\nbindings\\nare\\ncorrect.\\n3.\\nDatabase\\nHealth\\nCheck:\\n●\\nPerform\\na\\nhealth\\ncheck\\non\\nthe\\ndatabase:\\n●\\nCheck\\nfor\\ntable\\ncorruption\\nusing\\ndatabase-specific\\ncommands\\n(e.g.,\\nCHECK\\nT ABLE\\nin\\nMySQL).\\n●\\nRun\\ndiagnostic\\nqueries\\nto\\nensure\\nthe\\ndatabase\\nis\\nperforming\\noptimally .\\n4.\\nDocument\\nthe\\nIncident:\\n●\\nUpdate\\nthe\\nincident\\nticket\\nwith\\nthe\\nsteps\\ntaken\\nand\\nthe\\nfinal\\nresolution.\\n●\\nConduct\\na\\npost-incident\\nreview\\nto\\nidentify\\nany\\npreventive\\nmeasures.', start_char_idx=None, end_char_idx=None, text_template='{metadata_str}\\n\\n{content}', metadata_template='{key}: {value}', metadata_seperator='\\n'),\n",
       " Document(id_='62cf0637-53bd-4191-9108-18def3dd9b9f', embedding=None, metadata={'page_label': '4', 'file_name': 'sre_runbook.pdf', 'file_path': 'e:\\\\PROJECTS_FOR_REFERRAL\\\\GenAI\\\\llama_index\\\\pdfs\\\\sre_runbook.pdf', 'file_type': 'application/pdf', 'file_size': 81000, 'creation_date': '2024-05-28', 'last_modified_date': '2024-05-28'}, excluded_embed_metadata_keys=['file_name', 'file_type', 'file_size', 'creation_date', 'last_modified_date', 'last_accessed_date'], excluded_llm_metadata_keys=['file_name', 'file_type', 'file_size', 'creation_date', 'last_modified_date', 'last_accessed_date'], relationships={}, text='API\\nEndpoint\\nFailures\\nIdentification\\n1.\\nMonitoring\\nAlerts:\\n●\\nCheck\\nfor\\nalerts\\nrelated\\nto\\nAPI\\nendpoint\\nfailures\\nin\\nyour\\nmonitoring\\nsystem.\\n●\\nLook\\nfor\\nspecific\\nerror\\nmessages\\nsuch\\nas\\n\"500\\nInternal\\nServer\\nError ,\"\\n\"404\\nNot\\nFound,\"\\nor\\n\"503\\nService\\nUnavailable\"\\nin\\nthe\\napplication\\nlogs.\\n2.\\nUser\\nReports:\\n●\\nUsers\\nmay\\nreport\\nissues\\nsuch\\nas\\n\"API\\nnot\\nresponding,\"\\n\"unexpected\\nerror\\nfrom\\nAPI,\"\\nor\\n\"service\\nunavailable.\"\\nImmediate\\nActions\\n1.\\nAcknowledge\\nthe\\nAlert:\\n●\\nConfirm\\nreceipt\\nof\\nthe\\nalert\\nin\\nthe\\nmonitoring\\nsystem\\nto\\nstop\\nfurther\\nnotifications.\\n2.\\nCheck\\nService\\nHealth:\\n●\\nV erify\\nthe\\nstatus\\nof\\nthe\\nAPI\\nservice\\nusing\\nsystem\\ncommands\\n(e.g.,\\nsystemctl\\nstatus\\nmy-api-service\\n)\\nor\\ncloud\\nprovider\\ndashboards.\\nTroubleshooting\\nSteps\\n1.\\nAPI\\nLogs:\\n●\\nReview\\nAPI\\nlogs\\nfor\\nany\\nerrors\\nor\\nwarnings.\\nUse\\ncommands\\nsuch\\nas:\\ntail\\n-f\\n/var/log/my-api-service/error .log\\n●\\nLook\\nfor\\nstack\\ntraces,\\nexception\\nmessages,\\nor\\nother\\nindicators\\nof\\nfailure.\\n2.\\nDependency\\nChecks:\\n●\\nEnsure\\nall\\ndependencies\\n(e.g.,\\ndatabases,\\nexternal\\nAPIs)\\nare\\noperational.\\nCheck\\ntheir\\nstatus\\nand\\nlogs\\nfor\\nany\\nissues.\\n3.\\nConfiguration\\nFiles:', start_char_idx=None, end_char_idx=None, text_template='{metadata_str}\\n\\n{content}', metadata_template='{key}: {value}', metadata_seperator='\\n'),\n",
       " Document(id_='c0309d1f-adae-40d9-937a-45fa196f531a', embedding=None, metadata={'page_label': '5', 'file_name': 'sre_runbook.pdf', 'file_path': 'e:\\\\PROJECTS_FOR_REFERRAL\\\\GenAI\\\\llama_index\\\\pdfs\\\\sre_runbook.pdf', 'file_type': 'application/pdf', 'file_size': 81000, 'creation_date': '2024-05-28', 'last_modified_date': '2024-05-28'}, excluded_embed_metadata_keys=['file_name', 'file_type', 'file_size', 'creation_date', 'last_modified_date', 'last_accessed_date'], excluded_llm_metadata_keys=['file_name', 'file_type', 'file_size', 'creation_date', 'last_modified_date', 'last_accessed_date'], relationships={}, text='●\\nCheck\\nAPI\\nconfiguration\\nfiles\\nfor\\nany\\nrecent\\nchanges\\nthat\\ncould\\nimpact\\nfunctionality\\n(e.g.,\\n/etc/my-api-service/config.yaml\\n).\\n4.\\nCode\\nReview:\\n●\\nReview\\nrecent\\ncode\\nchanges\\nthat\\ncould\\nhave\\nintroduced\\nbugs\\nor\\nissues.\\nUse\\nversion\\ncontrol\\ntools\\nto\\nidentify\\nrecent\\ncommits:\\ngit\\nlog\\nResolution\\n1.\\nRestart\\nAPI\\nService:\\n●\\nRestart\\nthe\\nAPI\\nservice\\nand\\nverify\\nfunctionality:\\nsudo\\nsystemctl\\nrestart\\nmy-api-service\\n●\\nConfirm\\nthe\\nservice\\nis\\nrunning\\nproperly:\\nsudo\\nsystemctl\\nstatus\\nmy-api-service\\n2.\\nFix\\nCode\\nIssues:\\n●\\nDebug\\nand\\nfix\\nany\\ncode\\nissues\\nidentified\\nin\\nthe\\nlogs.\\nDeploy\\nhotfixes\\nif\\nnecessary .\\n3.\\nUpdate\\nDependencies:\\n●\\nEnsure\\nall\\ndependencies\\nare\\nup\\nto\\ndate\\nand\\nfunctioning\\nproperly .\\nUpdate\\nthem\\nif\\nnecessary .\\n4.\\nDocument\\nthe\\nIncident:\\n●\\nUpdate\\nthe\\nincident\\nticket\\nwith\\nthe\\nsteps\\ntaken\\nand\\nthe\\nfinal\\nresolution.\\n●\\nConduct\\na\\npost-incident\\nreview\\nto\\nidentify\\nany\\npreventive\\nmeasures.\\nService\\nTimeout\\nIssues\\nIdentification\\n1.\\nMonitoring\\nAlerts:\\n●\\nCheck\\nfor\\nalerts\\nrelated\\nto\\nservice\\ntimeouts\\nin\\nyour\\nmonitoring\\nsystem.', start_char_idx=None, end_char_idx=None, text_template='{metadata_str}\\n\\n{content}', metadata_template='{key}: {value}', metadata_seperator='\\n'),\n",
       " Document(id_='459e1b9d-ca0b-4dbf-9953-01fcc61b2c31', embedding=None, metadata={'page_label': '6', 'file_name': 'sre_runbook.pdf', 'file_path': 'e:\\\\PROJECTS_FOR_REFERRAL\\\\GenAI\\\\llama_index\\\\pdfs\\\\sre_runbook.pdf', 'file_type': 'application/pdf', 'file_size': 81000, 'creation_date': '2024-05-28', 'last_modified_date': '2024-05-28'}, excluded_embed_metadata_keys=['file_name', 'file_type', 'file_size', 'creation_date', 'last_modified_date', 'last_accessed_date'], excluded_llm_metadata_keys=['file_name', 'file_type', 'file_size', 'creation_date', 'last_modified_date', 'last_accessed_date'], relationships={}, text='●\\nLook\\nfor\\nspecific\\nerror\\nmessages\\nsuch\\nas\\n\"Request\\ntimed\\nout\"\\nor\\n\"Service\\nunavailable\\ndue\\nto\\ntimeout\"\\nin\\nthe\\napplication\\nlogs.\\n2.\\nUser\\nReports:\\n●\\nUsers\\nmay\\nreport\\nissues\\nsuch\\nas\\n\"service\\nis\\nslow ,\"\\n\"request\\nis\\ntiming\\nout,\"\\nor\\n\"unable\\nto\\ncomplete\\nactions.\"\\nImmediate\\nActions\\n1.\\nAcknowledge\\nthe\\nAlert:\\n●\\nConfirm\\nreceipt\\nof\\nthe\\nalert\\nin\\nthe\\nmonitoring\\nsystem\\nto\\nstop\\nfurther\\nnotifications.\\n2.\\nCheck\\nService\\nHealth:\\n●\\nV erify\\nthe\\nstatus\\nof\\nthe\\naf fected\\nservice\\nusing\\nsystem\\ncommands\\n(e.g.,\\nsystemctl\\nstatus\\nmy-service\\n)\\nor\\ncloud\\nprovider\\ndashboards.\\nTroubleshooting\\nSteps\\n1.\\nService\\nLogs:\\n●\\nReview\\nservice\\nlogs\\nfor\\nany\\nerrors\\nor\\nwarnings.\\nUse\\ncommands\\nsuch\\nas:\\ntail\\n-f\\n/var/log/my-service/error .log\\n●\\nLook\\nfor\\ntimeout\\nerrors,\\nperformance\\nbottlenecks,\\nor\\nresource\\nexhaustion\\nindicators.\\n2.\\nNetwork\\nDiagnostics:\\n●\\nPerform\\nnetwork\\ndiagnostics\\nto\\nidentify\\nlatency\\nissues:\\nping\\n<service_endpoint>\\ntraceroute\\n<service_endpoint>\\n●\\nCheck\\nfor\\nnetwork\\ncongestion\\nor\\nrouting\\nissues.\\n3.\\nResource\\nUtilization:\\n●\\nCheck\\nresource\\nutilization\\n(CPU,\\nmemory ,\\ndisk\\nI/O)\\non\\nthe\\nserver\\nusing\\ntools\\nlike\\ntop\\n,\\nhtop\\n,\\nor\\niostat\\n.\\n4.\\nApplication\\nMetrics:\\n●\\nReview\\napplication-specific\\nmetrics\\n(e.g.,\\nrequest\\nrates,\\nresponse\\ntimes)\\nin\\nyour\\nmonitoring\\ndashboards.', start_char_idx=None, end_char_idx=None, text_template='{metadata_str}\\n\\n{content}', metadata_template='{key}: {value}', metadata_seperator='\\n'),\n",
       " Document(id_='fc756ffe-5e55-4c54-9281-f8b11b1fac6b', embedding=None, metadata={'page_label': '7', 'file_name': 'sre_runbook.pdf', 'file_path': 'e:\\\\PROJECTS_FOR_REFERRAL\\\\GenAI\\\\llama_index\\\\pdfs\\\\sre_runbook.pdf', 'file_type': 'application/pdf', 'file_size': 81000, 'creation_date': '2024-05-28', 'last_modified_date': '2024-05-28'}, excluded_embed_metadata_keys=['file_name', 'file_type', 'file_size', 'creation_date', 'last_modified_date', 'last_accessed_date'], excluded_llm_metadata_keys=['file_name', 'file_type', 'file_size', 'creation_date', 'last_modified_date', 'last_accessed_date'], relationships={}, text='Resolution\\n1.\\nIncrease\\nT imeouts:\\n●\\nAdjust\\ntimeout\\nsettings\\nin\\nthe\\nservice\\nconfiguration\\nto\\nallow\\nmore\\ntime\\nfor\\nrequests\\nto\\ncomplete.\\n2.\\nOptimize\\nCode:\\n●\\nIdentify\\nand\\noptimize\\nslow\\ncode\\npaths.\\nProfile\\nthe\\napplication\\nto\\npinpoint\\nperformance\\nbottlenecks.\\n3.\\nScale\\nResources:\\n●\\nIncrease\\nresources\\n(CPU,\\nmemory)\\nfor\\nthe\\nservice\\nif\\nnecessary .\\nUse\\nauto-scaling\\nfeatures\\nif\\navailable.\\n4.\\nDocument\\nthe\\nIncident:\\n●\\nUpdate\\nthe\\nincident\\nticket\\nwith\\nthe\\nsteps\\ntaken\\nand\\nthe\\nfinal\\nresolution.\\n●\\nConduct\\na\\npost-incident\\nreview\\nto\\nidentify\\nany\\npreventive\\nmeasures.\\nHigh\\nCPU\\nUsage\\nIdentification\\n1.\\nMonitoring\\nAlerts:\\n●\\nCheck\\nfor\\nalerts\\nrelated\\nto\\nhigh\\nCPU\\nusage\\nin\\nyour\\nmonitoring\\nsystem.\\n●\\nLook\\nfor\\nspikes\\nin\\nCPU\\nusage\\ngraphs\\nand\\nspecific\\nerror\\nmessages\\nindicating\\nCPU\\nexhaustion\\nin\\nthe\\nlogs.\\n2.\\nUser\\nReports:\\n●\\nUsers\\nmay\\nreport\\nissues\\nsuch\\nas\\n\"system\\nis\\nslow ,\"\\n\"high\\nresponse\\ntimes,\"\\nor\\n\"application\\nis\\nunresponsive.\"\\nImmediate\\nActions\\n1.\\nAcknowledge\\nthe\\nAlert:\\n●\\nConfirm\\nreceipt\\nof\\nthe\\nalert\\nin\\nthe\\nmonitoring\\nsystem\\nto\\nstop\\nfurther\\nnotifications.\\n2.\\nCheck\\nService\\nHealth:', start_char_idx=None, end_char_idx=None, text_template='{metadata_str}\\n\\n{content}', metadata_template='{key}: {value}', metadata_seperator='\\n'),\n",
       " Document(id_='3feba80f-d570-4caa-9e13-89061a365fc1', embedding=None, metadata={'page_label': '8', 'file_name': 'sre_runbook.pdf', 'file_path': 'e:\\\\PROJECTS_FOR_REFERRAL\\\\GenAI\\\\llama_index\\\\pdfs\\\\sre_runbook.pdf', 'file_type': 'application/pdf', 'file_size': 81000, 'creation_date': '2024-05-28', 'last_modified_date': '2024-05-28'}, excluded_embed_metadata_keys=['file_name', 'file_type', 'file_size', 'creation_date', 'last_modified_date', 'last_accessed_date'], excluded_llm_metadata_keys=['file_name', 'file_type', 'file_size', 'creation_date', 'last_modified_date', 'last_accessed_date'], relationships={}, text='●\\nV erify\\nthe\\nstatus\\nof\\nthe\\naf fected\\nservice\\nusing\\nsystem\\ncommands\\n(e.g.,\\nsystemctl\\nstatus\\nmy-service\\n)\\nor\\ncloud\\nprovider\\ndashboards.\\nTroubleshooting\\nSteps\\n1.\\nProcess\\nAnalysis:\\n●\\nIdentify\\nprocesses\\nconsuming\\nhigh\\nCPU\\nusing\\ntools\\nsuch\\nas\\ntop\\nor\\nhtop\\n:\\ntop\\nhtop\\n●\\nLook\\nfor\\nprocesses\\nwith\\nunusually\\nhigh\\nCPU\\nusage\\nand\\nidentify\\nthe\\ncorresponding\\nservices\\nor\\napplications.\\n2.\\nService\\nLogs:\\n●\\nReview\\nservice\\nlogs\\nfor\\nany\\nerrors\\nor\\nwarnings.\\nUse\\ncommands\\nsuch\\nas:\\ntail\\n-f\\n/var/log/my-service/error .log\\n●\\nLook\\nfor\\nindicators\\nof\\nresource-intensive\\noperations\\nor\\ninfinite\\nloops.\\n3.\\nApplication\\nProfiling:\\n●\\nUse\\nprofiling\\ntools\\nto\\nidentify\\nperformance\\nbottlenecks\\nin\\nthe\\napplication\\n(e.g.,\\nperf\\n,\\npy-spy\\nfor\\nPython\\napplications):\\nsudo\\nperf\\ntop\\npy-spy\\ntop\\n--pid\\n<pid>\\nResolution\\n1.\\nT erminate\\nRogue\\nProcesses:\\n●\\nT erminate\\nprocesses\\nthat\\nare\\nconsuming\\nexcessive\\nCPU.\\nUse\\nkill\\nor\\nkill\\n-9\\nif\\nnecessary:\\nsudo\\nkill\\n<pid>\\nsudo\\nkill\\n-9\\n<pid>\\n2.\\nOptimize\\nCode:\\n●\\nIdentify\\nand\\noptimize\\ninef ficient\\ncode\\npaths.\\nRefactor\\ncode\\nto\\nimprove\\nperformance\\nand\\nreduce\\nCPU\\nusage.\\n3.\\nScale\\nResources:', start_char_idx=None, end_char_idx=None, text_template='{metadata_str}\\n\\n{content}', metadata_template='{key}: {value}', metadata_seperator='\\n'),\n",
       " Document(id_='96176ac2-7962-403c-adf1-eca94857ca2c', embedding=None, metadata={'page_label': '9', 'file_name': 'sre_runbook.pdf', 'file_path': 'e:\\\\PROJECTS_FOR_REFERRAL\\\\GenAI\\\\llama_index\\\\pdfs\\\\sre_runbook.pdf', 'file_type': 'application/pdf', 'file_size': 81000, 'creation_date': '2024-05-28', 'last_modified_date': '2024-05-28'}, excluded_embed_metadata_keys=['file_name', 'file_type', 'file_size', 'creation_date', 'last_modified_date', 'last_accessed_date'], excluded_llm_metadata_keys=['file_name', 'file_type', 'file_size', 'creation_date', 'last_modified_date', 'last_accessed_date'], relationships={}, text='●\\nIncrease\\nCPU\\nresources\\nfor\\nthe\\nservice\\nif\\nnecessary .\\nUse\\ncloud\\nprovider\\nfeatures\\nto\\nscale\\nvertically\\nor\\nhorizontally .\\n4.\\nDocument\\nthe\\nIncident:\\n●\\nUpdate\\nthe\\nincident\\nticket\\nwith\\nthe\\nsteps\\ntaken\\nand\\nthe\\nfinal\\nresolution.\\n●\\nConduct\\na\\npost-incident\\nreview\\nto\\nidentify\\nany\\npreventive\\nmeasures.\\nContact\\nInformation\\n1.\\nOn-Call\\nT eam:\\n●\\nName:\\nBob\\nRole:\\nSWE\\nContact:\\n+91\\n91213\\n12432\\n2.\\nEscalation\\nContacts:\\n●\\nName:\\nT om\\nCruise\\nRole:\\nSenior\\nSWE\\nContact:\\n+91\\n81924\\n35216\\n3.\\nExternal\\nSupport:\\n●\\nV endor\\nName:\\nT oshiba\\nRole:\\nV endor\\nSupport\\nContact:\\n+81\\n22124\\n25167', start_char_idx=None, end_char_idx=None, text_template='{metadata_str}\\n\\n{content}', metadata_template='{key}: {value}', metadata_seperator='\\n'),\n",
       " Document(id_='7d15fda3-26eb-4622-97fc-fe24e58f2f52', embedding=None, metadata={'page_label': '1', 'file_name': 'sre_runbook_2_cloud.pdf', 'file_path': 'e:\\\\PROJECTS_FOR_REFERRAL\\\\GenAI\\\\llama_index\\\\pdfs\\\\sre_runbook_2_cloud.pdf', 'file_type': 'application/pdf', 'file_size': 77755, 'creation_date': '2024-05-28', 'last_modified_date': '2024-05-28'}, excluded_embed_metadata_keys=['file_name', 'file_type', 'file_size', 'creation_date', 'last_modified_date', 'last_accessed_date'], excluded_llm_metadata_keys=['file_name', 'file_type', 'file_size', 'creation_date', 'last_modified_date', 'last_accessed_date'], relationships={}, text='Sample\\nRunBook\\nfor\\nCloud\\nDeveloper\\nTeams\\nTable\\nof\\nContents\\n1.\\nIntroduction\\n2.\\nDeployment\\nFailures\\n●\\nIdentification\\n●\\nImmediate\\nActions\\n●\\nTroubleshooting\\nSteps\\n●\\nResolution\\n3.\\nService\\nDowntime\\n●\\nIdentification\\n●\\nImmediate\\nActions\\n●\\nTroubleshooting\\nSteps\\n●\\nResolution\\n4.\\nPerformance\\nDegradation\\n●\\nIdentification\\n●\\nImmediate\\nActions\\n●\\nTroubleshooting\\nSteps\\n●\\nResolution\\n5.\\nSecurity\\nIncidents\\n●\\nIdentification\\n●\\nImmediate\\nActions\\n●\\nTroubleshooting\\nSteps\\n●\\nResolution\\n6.\\nCost\\nOverruns\\n●\\nIdentification\\n●\\nImmediate\\nActions\\n●\\nTroubleshooting\\nSteps\\n●\\nResolution\\nIntroduction', start_char_idx=None, end_char_idx=None, text_template='{metadata_str}\\n\\n{content}', metadata_template='{key}: {value}', metadata_seperator='\\n'),\n",
       " Document(id_='c74717fe-b1f1-4409-afb9-fb3554090b93', embedding=None, metadata={'page_label': '2', 'file_name': 'sre_runbook_2_cloud.pdf', 'file_path': 'e:\\\\PROJECTS_FOR_REFERRAL\\\\GenAI\\\\llama_index\\\\pdfs\\\\sre_runbook_2_cloud.pdf', 'file_type': 'application/pdf', 'file_size': 77755, 'creation_date': '2024-05-28', 'last_modified_date': '2024-05-28'}, excluded_embed_metadata_keys=['file_name', 'file_type', 'file_size', 'creation_date', 'last_modified_date', 'last_accessed_date'], excluded_llm_metadata_keys=['file_name', 'file_type', 'file_size', 'creation_date', 'last_modified_date', 'last_accessed_date'], relationships={}, text='This\\nRunBook\\nprovides\\ndetailed\\nprocedures\\nfor\\ncloud\\ndeveloper\\nteams\\nto\\nhandle\\ncommon\\nissues\\nsuch\\nas\\ndeployment\\nfailures,\\nservice\\ndowntime,\\nperformance\\ndegradation,\\nsecurity\\nincidents,\\nand\\ncost\\noverruns.\\nEach\\nsection\\nincludes\\nsteps\\nfor\\nidentification,\\nimmediate\\nactions,\\ntroubleshooting,\\nand\\nresolution.\\nThis\\ndocument\\nis\\nintended\\nfor\\nuse\\nby\\ncloud\\ndevelopers,\\nDevOps\\nengineers,\\nand\\nother\\ntechnical\\nstaff\\nresponsible\\nfor\\nmaintaining\\ncloud-based\\napplications\\nand\\ninfrastructure.\\nDeployment\\nFailures\\nIdentification\\n1.\\nMonitoring\\nAlerts:\\n●\\nCheck\\nfor\\nalerts\\nrelated\\nto\\ndeployment\\nfailures\\nin\\nyour\\nCI/CD\\nsystem\\n(e.g.,\\nJenkins,\\nGitLab\\nCI,\\nGitHub\\nActions).\\n●\\nLook\\nfor\\nerror\\nmessages\\nindicating\\nbuild\\nor\\ndeployment\\nfailures.\\n2.\\nUser\\nReports:\\n●\\nUsers\\nor\\nstakeholders\\nmay\\nreport\\nissues\\nsuch\\nas\\n\"new\\nfeatures\\nnot\\navailable,\"\\n\"deployment\\nerrors,\"\\nor\\n\"service\\nnot\\nupdated.\"\\nImmediate\\nActions\\n1.\\nAcknowledge\\nthe\\nAlert:\\n●\\nConfirm\\nreceipt\\nof\\nthe\\nalert\\nin\\nthe\\nmonitoring\\nor\\nCI/CD\\nsystem\\nto\\nstop\\nfurther\\nnotifications.\\n2.\\nCheck\\nDeployment\\nLogs:\\n●\\nAccess\\nthe\\nCI/CD\\nsystem\\nand\\nreview\\nthe\\ndeployment\\nlogs\\nfor\\nerror\\nmessages\\nand\\nfailed\\nsteps.\\nTroubleshooting\\nSteps\\n1.\\nBuild\\nLogs:\\n●\\nReview\\nbuild\\nlogs\\nfor\\nany\\ncompilation\\nerrors,\\nmissing\\ndependencies,\\nor\\nfailed\\ntests:\\ntail\\n-f\\n/path/to/build/log', start_char_idx=None, end_char_idx=None, text_template='{metadata_str}\\n\\n{content}', metadata_template='{key}: {value}', metadata_seperator='\\n'),\n",
       " Document(id_='82adf15c-8ee8-4f85-b96c-fb65a5574f68', embedding=None, metadata={'page_label': '3', 'file_name': 'sre_runbook_2_cloud.pdf', 'file_path': 'e:\\\\PROJECTS_FOR_REFERRAL\\\\GenAI\\\\llama_index\\\\pdfs\\\\sre_runbook_2_cloud.pdf', 'file_type': 'application/pdf', 'file_size': 77755, 'creation_date': '2024-05-28', 'last_modified_date': '2024-05-28'}, excluded_embed_metadata_keys=['file_name', 'file_type', 'file_size', 'creation_date', 'last_modified_date', 'last_accessed_date'], excluded_llm_metadata_keys=['file_name', 'file_type', 'file_size', 'creation_date', 'last_modified_date', 'last_accessed_date'], relationships={}, text='2.\\nConfiguration\\nFiles:\\n●\\nCheck\\nconfiguration\\nfiles\\n(e.g.,\\nJenkinsfile\\n,\\ngitlab-ci.yml\\n)\\nfor\\nerrors\\nor\\nrecent\\nchanges.\\n3.\\nEnvironment\\nIssues:\\n●\\nVerify\\nthat\\nthe\\ndeployment\\nenvironment\\n(e.g.,\\nstaging,\\nproduction)\\nis\\ncorrectly\\nconfigured\\nand\\naccessible.\\n4.\\nDependency\\nChecks:\\n●\\nEnsure\\nall\\ndependencies\\n(e.g.,\\nexternal\\nlibraries,\\nservices)\\nare\\navailable\\nand\\ncompatible\\nwith\\nthe\\ndeployment.\\nResolution\\n1.\\nFix\\nBuild\\nIssues:\\n●\\nCorrect\\nany\\nerrors\\nidentified\\nin\\nthe\\nbuild\\nlogs.\\nRebuild\\nthe\\napplication\\nif\\nnecessary .\\n2.\\nUpdate\\nConfiguration:\\n●\\nCorrect\\nany\\nissues\\nin\\nthe\\nconfiguration\\nfiles.\\nCommit\\nand\\npush\\nchanges\\nto\\ntrigger\\na\\nnew\\ndeployment.\\n3.\\nEnvironment\\nSetup:\\n●\\nEnsure\\nthe\\ndeployment\\nenvironment\\nis\\nproperly\\nset\\nup.\\nFix\\nany\\nissues\\nrelated\\nto\\nenvironment\\nvariables,\\nnetwork\\nconfigurations,\\nor\\npermissions.\\n4.\\nDocument\\nthe\\nIncident:\\n●\\nUpdate\\nthe\\nincident\\nticket\\nwith\\nthe\\nsteps\\ntaken\\nand\\nthe\\nfinal\\nresolution.\\n●\\nConduct\\na\\npost-incident\\nreview\\nto\\nidentify\\nany\\npreventive\\nmeasures.\\nService\\nDowntime\\nIdentification\\n1.\\nMonitoring\\nAlerts:\\n●\\nCheck\\nfor\\nalerts\\nrelated\\nto\\nservice\\ndowntime\\nin\\nyour\\nmonitoring\\nsystem\\n(e.g.,\\nCloudW atch,\\nPrometheus).\\n●\\nLook\\nfor\\nspecific\\nerror\\nmessages\\nsuch\\nas\\n\"Service\\nUnavailable\"\\nor\\n\"Connection\\nTimeout.\"\\n2.\\nUser\\nReports:', start_char_idx=None, end_char_idx=None, text_template='{metadata_str}\\n\\n{content}', metadata_template='{key}: {value}', metadata_seperator='\\n'),\n",
       " Document(id_='e9cc822c-f876-4b01-a6ba-ec562cdb11e0', embedding=None, metadata={'page_label': '4', 'file_name': 'sre_runbook_2_cloud.pdf', 'file_path': 'e:\\\\PROJECTS_FOR_REFERRAL\\\\GenAI\\\\llama_index\\\\pdfs\\\\sre_runbook_2_cloud.pdf', 'file_type': 'application/pdf', 'file_size': 77755, 'creation_date': '2024-05-28', 'last_modified_date': '2024-05-28'}, excluded_embed_metadata_keys=['file_name', 'file_type', 'file_size', 'creation_date', 'last_modified_date', 'last_accessed_date'], excluded_llm_metadata_keys=['file_name', 'file_type', 'file_size', 'creation_date', 'last_modified_date', 'last_accessed_date'], relationships={}, text='●\\nUsers\\nmay\\nreport\\nissues\\nsuch\\nas\\n\"service\\nnot\\nreachable,\"\\n\"unable\\nto\\naccess\\napplication,\"\\nor\\n\"website\\ndown.\"\\nImmediate\\nActions\\n1.\\nAcknowledge\\nthe\\nAlert:\\n●\\nConfirm\\nreceipt\\nof\\nthe\\nalert\\nin\\nthe\\nmonitoring\\nsystem\\nto\\nstop\\nfurther\\nnotifications.\\n2.\\nCheck\\nService\\nStatus:\\n●\\nVerify\\nthe\\nstatus\\nof\\nthe\\naffected\\nservice\\nusing\\ncloud\\nprovider\\ndashboards\\nor\\nCLI\\ncommands.\\nTroubleshooting\\nSteps\\n1.\\nLogs\\nand\\nMetrics:\\n●\\nReview\\nservice\\nlogs\\nand\\nmetrics\\nfor\\nany\\nerrors\\nor\\nanomalies.\\nUse\\ncommands\\nsuch\\nas:\\ntail\\n-f\\n/var/log/my-service/error .log\\n●\\nCheck\\nfor\\nspikes\\nin\\nCPU,\\nmemory ,\\nor\\nnetwork\\nusage.\\n2.\\nDependency\\nHealth:\\n●\\nCheck\\nthe\\nstatus\\nof\\nany\\ndependent\\nservices\\nor\\nresources\\n(e.g.,\\ndatabases,\\nexternal\\nAPIs).\\n3.\\nConfiguration\\nReview:\\n●\\nReview\\nconfiguration\\nfiles\\nand\\nenvironment\\nsettings\\nfor\\nerrors\\nor\\nrecent\\nchanges.\\n4.\\nNetwork\\nDiagnostics:\\n●\\nPerform\\nnetwork\\ndiagnostics\\nto\\nidentify\\nconnectivity\\nissues\\n(e.g.,\\nping\\n,\\ntraceroute\\n).\\nResolution\\n1.\\nRestart\\nServices:\\n●\\nRestart\\nthe\\naffected\\nservices\\nand\\nverify\\nfunctionality:\\nsudo\\nsystemctl\\nrestart\\nmy-service', start_char_idx=None, end_char_idx=None, text_template='{metadata_str}\\n\\n{content}', metadata_template='{key}: {value}', metadata_seperator='\\n'),\n",
       " Document(id_='68b3978a-5713-41af-b6e0-d40d85d7637a', embedding=None, metadata={'page_label': '5', 'file_name': 'sre_runbook_2_cloud.pdf', 'file_path': 'e:\\\\PROJECTS_FOR_REFERRAL\\\\GenAI\\\\llama_index\\\\pdfs\\\\sre_runbook_2_cloud.pdf', 'file_type': 'application/pdf', 'file_size': 77755, 'creation_date': '2024-05-28', 'last_modified_date': '2024-05-28'}, excluded_embed_metadata_keys=['file_name', 'file_type', 'file_size', 'creation_date', 'last_modified_date', 'last_accessed_date'], excluded_llm_metadata_keys=['file_name', 'file_type', 'file_size', 'creation_date', 'last_modified_date', 'last_accessed_date'], relationships={}, text='2.\\nFix\\nConfiguration\\nIssues:\\n●\\nCorrect\\nany\\nconfiguration\\nissues\\nidentified.\\nEnsure\\nenvironment\\nvariables\\nand\\nnetwork\\nsettings\\nare\\ncorrect.\\n3.\\nScale\\nResources:\\n●\\nIncrease\\nresources\\n(CPU,\\nmemory)\\nfor\\nthe\\naffected\\nservices\\nif\\nnecessary .\\nUse\\nauto-scaling\\nfeatures\\nif\\navailable.\\n4.\\nDocument\\nthe\\nIncident:\\n●\\nUpdate\\nthe\\nincident\\nticket\\nwith\\nthe\\nsteps\\ntaken\\nand\\nthe\\nfinal\\nresolution.\\n●\\nConduct\\na\\npost-incident\\nreview\\nto\\nidentify\\nany\\npreventive\\nmeasures.\\nPerformance\\nDegradation\\nIdentification\\n1.\\nMonitoring\\nAlerts:\\n●\\nCheck\\nfor\\nalerts\\nrelated\\nto\\nperformance\\ndegradation\\nin\\nyour\\nmonitoring\\nsystem.\\n●\\nLook\\nfor\\nspecific\\nmetrics\\nindicating\\nhigh\\nlatency ,\\nslow\\nresponse\\ntimes,\\nor\\nresource\\nexhaustion.\\n2.\\nUser\\nReports:\\n●\\nUsers\\nmay\\nreport\\nissues\\nsuch\\nas\\n\"application\\nis\\nslow ,\"\\n\"pages\\ntaking\\ntoo\\nlong\\nto\\nload,\"\\nor\\n\"poor\\nperformance.\"\\nImmediate\\nActions\\n1.\\nAcknowledge\\nthe\\nAlert:\\n●\\nConfirm\\nreceipt\\nof\\nthe\\nalert\\nin\\nthe\\nmonitoring\\nsystem\\nto\\nstop\\nfurther\\nnotifications.\\n2.\\nCheck\\nSystem\\nHealth:\\n●\\nVerify\\nthe\\noverall\\nhealth\\nof\\nthe\\nsystem\\nusing\\ncloud\\nprovider\\ndashboards\\nor\\nCLI\\ncommands.\\nTroubleshooting\\nSteps', start_char_idx=None, end_char_idx=None, text_template='{metadata_str}\\n\\n{content}', metadata_template='{key}: {value}', metadata_seperator='\\n'),\n",
       " Document(id_='58319712-2601-4400-ad30-cc0e88997cdd', embedding=None, metadata={'page_label': '6', 'file_name': 'sre_runbook_2_cloud.pdf', 'file_path': 'e:\\\\PROJECTS_FOR_REFERRAL\\\\GenAI\\\\llama_index\\\\pdfs\\\\sre_runbook_2_cloud.pdf', 'file_type': 'application/pdf', 'file_size': 77755, 'creation_date': '2024-05-28', 'last_modified_date': '2024-05-28'}, excluded_embed_metadata_keys=['file_name', 'file_type', 'file_size', 'creation_date', 'last_modified_date', 'last_accessed_date'], excluded_llm_metadata_keys=['file_name', 'file_type', 'file_size', 'creation_date', 'last_modified_date', 'last_accessed_date'], relationships={}, text='1.\\nLogs\\nand\\nMetrics:\\n●\\nReview\\nlogs\\nand\\nmetrics\\nfor\\nany\\nerrors\\nor\\nperformance\\nbottlenecks.\\nUse\\ncommands\\nsuch\\nas:\\ntail\\n-f\\n/var/log/my-service/performance.log\\n●\\nCheck\\nfor\\nresource\\nutilization\\npatterns\\n(CPU,\\nmemory ,\\ndisk\\nI/O).\\n2.\\nApplication\\nProfiling:\\n●\\nUse\\nprofiling\\ntools\\nto\\nidentify\\nperformance\\nbottlenecks\\nin\\nthe\\napplication\\ncode\\n(e.g.,\\nperf\\n,\\npy-spy\\nfor\\nPython\\napplications).\\n3.\\nDependency\\nHealth:\\n●\\nCheck\\nthe\\nperformance\\nand\\nhealth\\nof\\ndependent\\nservices\\nor\\nresources\\n(e.g.,\\ndatabases,\\nexternal\\nAPIs).\\n4.\\nConfiguration\\nReview:\\n●\\nReview\\nconfiguration\\nfiles\\nand\\nenvironment\\nsettings\\nfor\\noptimization\\nopportunities.\\nResolution\\n1.\\nOptimize\\nCode:\\n●\\nIdentify\\nand\\noptimize\\ninefficient\\ncode\\npaths.\\nRefactor\\ncode\\nto\\nimprove\\nperformance\\nand\\nreduce\\nresource\\nusage.\\n2.\\nScale\\nResources:\\n●\\nIncrease\\nresources\\n(CPU,\\nmemory)\\nfor\\nthe\\naffected\\nservices\\nif\\nnecessary .\\nUse\\nauto-scaling\\nfeatures\\nif\\navailable.\\n3.\\nUpdate\\nConfiguration:\\n●\\nAdjust\\nconfiguration\\nsettings\\nto\\noptimize\\nperformance\\n(e.g.,\\nconnection\\npools,\\ncaching\\nstrategies).\\n4.\\nDocument\\nthe\\nIncident:\\n●\\nUpdate\\nthe\\nincident\\nticket\\nwith\\nthe\\nsteps\\ntaken\\nand\\nthe\\nfinal\\nresolution.\\n●\\nConduct\\na\\npost-incident\\nreview\\nto\\nidentify\\nany\\npreventive\\nmeasures.\\nSecurity\\nIncidents\\nIdentification', start_char_idx=None, end_char_idx=None, text_template='{metadata_str}\\n\\n{content}', metadata_template='{key}: {value}', metadata_seperator='\\n'),\n",
       " Document(id_='06a23f78-615e-405d-9872-75dd23ab5b6e', embedding=None, metadata={'page_label': '7', 'file_name': 'sre_runbook_2_cloud.pdf', 'file_path': 'e:\\\\PROJECTS_FOR_REFERRAL\\\\GenAI\\\\llama_index\\\\pdfs\\\\sre_runbook_2_cloud.pdf', 'file_type': 'application/pdf', 'file_size': 77755, 'creation_date': '2024-05-28', 'last_modified_date': '2024-05-28'}, excluded_embed_metadata_keys=['file_name', 'file_type', 'file_size', 'creation_date', 'last_modified_date', 'last_accessed_date'], excluded_llm_metadata_keys=['file_name', 'file_type', 'file_size', 'creation_date', 'last_modified_date', 'last_accessed_date'], relationships={}, text='1.\\nMonitoring\\nAlerts:\\n●\\nCheck\\nfor\\nalerts\\nrelated\\nto\\nsecurity\\nincidents\\nin\\nyour\\nsecurity\\nmonitoring\\nsystem\\n(e.g.,\\nAWS\\nGuardDuty ,\\nAzure\\nSecurity\\nCenter).\\n●\\nLook\\nfor\\nspecific\\nerror\\nmessages\\nor\\nalerts\\nindicating\\nunauthorized\\naccess,\\ndata\\nbreaches,\\nor\\nmalware\\ndetection.\\n2.\\nUser\\nReports:\\n●\\nUsers\\nmay\\nreport\\nsuspicious\\nactivities\\nsuch\\nas\\n\"unauthorized\\naccess,\"\\n\"data\\nbreaches,\"\\nor\\n\"unusual\\nactivity .\"\\nImmediate\\nActions\\n1.\\nAcknowledge\\nthe\\nAlert:\\n●\\nConfirm\\nreceipt\\nof\\nthe\\nalert\\nin\\nthe\\nsecurity\\nmonitoring\\nsystem\\nto\\nstop\\nfurther\\nnotifications.\\n2.\\nIsolate\\nAffected\\nSystems:\\n●\\nIsolate\\naffected\\nsystems\\nto\\nprevent\\nfurther\\nunauthorized\\naccess\\nor\\ndamage.\\nUse\\nnetwork\\nsegmentation\\nor\\ndisable\\ncompromised\\naccounts.\\nTroubleshooting\\nSteps\\n1.\\nLog\\nReview:\\n●\\nReview\\nsecurity\\nlogs\\nfor\\nany\\nsuspicious\\nactivity\\nor\\nunauthorized\\naccess\\nattempts.\\nUse\\ncommands\\nsuch\\nas:\\ntail\\n-f\\n/var/log/auth.log\\n●\\nLook\\nfor\\nunusual\\nlogin\\nattempts,\\nfailed\\nlogin\\nattempts,\\nor\\nunexpected\\nchanges.\\n2.\\nVulnerability\\nAssessment:\\n●\\nPerform\\na\\nvulnerability\\nassessment\\nto\\nidentify\\nsecurity\\nweaknesses.\\nUse\\ntools\\nlike\\nnmap\\nor\\nOpenV AS\\n.\\n3.\\nAccess\\nControl\\nReview:\\n●\\nReview\\naccess\\ncontrol\\nsettings\\nand\\npermissions\\nfor\\nany\\nanomalies\\nor\\nmisconfigurations.\\n4.\\nIncident\\nAnalysis:\\n●\\nAnalyze\\nthe\\nincident\\nto\\nunderstand\\nthe\\nattack\\nvector ,\\nscope,\\nand\\nimpact.\\nIdentify\\nthe\\nroot\\ncause\\nof\\nthe\\nsecurity\\nbreach.', start_char_idx=None, end_char_idx=None, text_template='{metadata_str}\\n\\n{content}', metadata_template='{key}: {value}', metadata_seperator='\\n'),\n",
       " Document(id_='05d59869-905c-4986-8594-22e5b9ce5aee', embedding=None, metadata={'page_label': '8', 'file_name': 'sre_runbook_2_cloud.pdf', 'file_path': 'e:\\\\PROJECTS_FOR_REFERRAL\\\\GenAI\\\\llama_index\\\\pdfs\\\\sre_runbook_2_cloud.pdf', 'file_type': 'application/pdf', 'file_size': 77755, 'creation_date': '2024-05-28', 'last_modified_date': '2024-05-28'}, excluded_embed_metadata_keys=['file_name', 'file_type', 'file_size', 'creation_date', 'last_modified_date', 'last_accessed_date'], excluded_llm_metadata_keys=['file_name', 'file_type', 'file_size', 'creation_date', 'last_modified_date', 'last_accessed_date'], relationships={}, text='Resolution\\n1.\\nPatch\\nVulnerabilities:\\n●\\nApply\\npatches\\nor\\nupdates\\nto\\nfix\\nidentified\\nvulnerabilities.\\nEnsure\\nall\\nsystems\\nare\\nup\\nto\\ndate.\\n2.\\nRevoke\\nAccess:\\n●\\nRevoke\\naccess\\nfor\\ncompromised\\naccounts\\nand\\nissue\\nnew\\ncredentials.\\nStrengthen\\naccess\\ncontrol\\npolicies.\\n3.\\nStrengthen\\nSecurity\\nMeasures:\\n●\\nImplement\\nadditional\\nsecurity\\nmeasures\\nsuch\\nas\\nmulti-factor\\nauthentication\\n(MFA),\\nintrusion\\ndetection\\nsystems\\n(IDS),\\nand\\nregular\\nsecurity\\naudits.\\n4.\\nDocument\\nthe\\nIncident:\\n●\\nUpdate\\nthe\\nincident\\nticket\\nwith\\nthe\\nsteps\\ntaken\\nand\\nthe\\nfinal\\nresolution.\\n●\\nConduct\\na\\npost-incident\\nreview\\nto\\nidentify\\nany\\npreventive\\nmeasures.\\nCost\\nOverruns\\nIdentification\\n1.\\nMonitoring\\nAlerts:\\n●\\nCheck\\nfor\\nalerts\\nrelated\\nto\\ncost\\noverruns\\nin\\nyour\\ncloud\\ncost\\nmanagement\\nsystem\\n(e.g.,\\nAWS\\nCost\\nExplorer ,\\nAzure\\nCost\\nManagement).\\n●\\nLook\\nfor\\nspecific\\nalerts\\nindicating\\nbudget\\nbreaches\\nor\\nunexpected\\ncost\\nspikes.\\n2.\\nFinancial\\nReports:\\n●\\nReview\\nfinancial\\nreports\\nand\\nbilling\\nstatements\\nfor\\nany\\nunusual\\nor\\nunexpected\\ncharges.\\nImmediate\\nActions\\n1.\\nAcknowledge\\nthe\\nAlert:\\n●\\nConfirm\\nreceipt\\nof\\nthe\\nalert\\nin\\nthe\\ncost\\nmanagement\\nsystem\\nto\\nstop\\nfurther\\nnotifications.', start_char_idx=None, end_char_idx=None, text_template='{metadata_str}\\n\\n{content}', metadata_template='{key}: {value}', metadata_seperator='\\n'),\n",
       " Document(id_='90085261-d562-454f-9f09-bef49424fd6e', embedding=None, metadata={'page_label': '9', 'file_name': 'sre_runbook_2_cloud.pdf', 'file_path': 'e:\\\\PROJECTS_FOR_REFERRAL\\\\GenAI\\\\llama_index\\\\pdfs\\\\sre_runbook_2_cloud.pdf', 'file_type': 'application/pdf', 'file_size': 77755, 'creation_date': '2024-05-28', 'last_modified_date': '2024-05-28'}, excluded_embed_metadata_keys=['file_name', 'file_type', 'file_size', 'creation_date', 'last_modified_date', 'last_accessed_date'], excluded_llm_metadata_keys=['file_name', 'file_type', 'file_size', 'creation_date', 'last_modified_date', 'last_accessed_date'], relationships={}, text='2.\\nCheck\\nUsage\\nReports:\\n●\\nReview\\ndetailed\\nusage\\nreports\\nto\\nidentify\\nservices\\nor\\nresources\\ncontributing\\nto\\nthe\\ncost\\noverrun.\\nTroubleshooting\\nSteps\\n1.\\nResource\\nUtilization:\\n●\\nCheck\\nresource\\nutilization\\nto\\nidentify\\nany\\nover-provisioned\\nor\\nunderutilized\\nresources.\\nUse\\ncloud\\nprovider\\ndashboards\\nor\\nCLI\\ncommands.\\n2.\\nCost\\nBreakdown:\\n●\\nAnalyze\\nthe\\ncost\\nbreakdown\\nto\\nidentify\\nthe\\nmost\\nexpensive\\nservices\\nor\\nresources.\\nLook\\nfor\\nunexpected\\nspikes\\nin\\nusage\\nor\\ncosts.\\n3.\\nConfiguration\\nReview:\\n●\\nReview\\nconfiguration\\nsettings\\nfor\\ncost\\noptimization\\nopportunities.\\nEnsure\\nresources\\nare\\nconfigured\\nto\\nscale\\nappropriately .\\n4.\\nUsage\\nPatterns:\\n●\\nIdentify\\nany\\nunusual\\nusage\\npatterns\\nor\\nactivities\\nthat\\ncould\\ncontribute\\nto\\ncost\\noverruns.\\nResolution\\n1.\\nOptimize\\nResources:\\n●\\nOptimize\\nor\\nresize\\nover-provisioned\\nresources.\\nUse\\nreserved\\ninstances\\nor\\nsavings\\nplans\\nto\\nreduce\\ncosts.\\n2.\\nImplement\\nCost\\nControls:\\n●\\nImplement\\ncost\\ncontrols\\nsuch\\nas\\nbudgets,\\nspending\\nlimits,\\nand\\nautomated\\nalerts\\nto\\nmonitor\\nand\\nmanage\\ncosts.\\n3.\\nUpdate\\nConfiguration:\\n●\\nAdjust\\nconfiguration\\nsettings\\nto\\noptimize\\ncost\\n(e.g.,\\nauto-scaling\\npolicies,\\ninstance\\ntypes).\\n4.\\nDocument\\nthe\\nIncident:\\n●\\nUpdate\\nthe\\nincident\\nticket\\nwith\\nthe\\nsteps\\ntaken\\nand\\nthe\\nfinal\\nresolution.\\n●\\nConduct\\na\\npost-incident\\nreview\\nto\\nidentify\\nany\\npreventive\\nmeasures.', start_char_idx=None, end_char_idx=None, text_template='{metadata_str}\\n\\n{content}', metadata_template='{key}: {value}', metadata_seperator='\\n')]"
      ]
     },
     "execution_count": 6,
     "metadata": {},
     "output_type": "execute_result"
    }
   ],
   "source": [
    "documents"
   ]
  },
  {
   "cell_type": "code",
   "execution_count": 7,
   "metadata": {},
   "outputs": [
    {
     "name": "stderr",
     "output_type": "stream",
     "text": [
      "e:\\PROJECTS_FOR_REFERRAL\\GenAI\\venv\\lib\\site-packages\\tqdm\\auto.py:21: TqdmWarning: IProgress not found. Please update jupyter and ipywidgets. See https://ipywidgets.readthedocs.io/en/stable/user_install.html\n",
      "  from .autonotebook import tqdm as notebook_tqdm\n",
      "Parsing nodes: 100%|██████████| 18/18 [00:00<00:00, 1238.62it/s]\n",
      "Generating embeddings: 100%|██████████| 18/18 [00:01<00:00, 10.53it/s]\n"
     ]
    }
   ],
   "source": [
    "index = VectorStoreIndex.from_documents(documents, show_progress=True)"
   ]
  },
  {
   "cell_type": "code",
   "execution_count": 8,
   "metadata": {},
   "outputs": [
    {
     "data": {
      "text/plain": [
       "<llama_index.core.indices.vector_store.base.VectorStoreIndex at 0x23db18e4130>"
      ]
     },
     "execution_count": 8,
     "metadata": {},
     "output_type": "execute_result"
    }
   ],
   "source": [
    "index"
   ]
  },
  {
   "cell_type": "code",
   "execution_count": 9,
   "metadata": {},
   "outputs": [],
   "source": [
    "query_engine = index.as_query_engine()"
   ]
  },
  {
   "cell_type": "code",
   "execution_count": 22,
   "metadata": {},
   "outputs": [],
   "source": [
    "from llama_index.core.retrievers import VectorIndexRetriever\n",
    "from llama_index.core.query_engine import RetrieverQueryEngine\n",
    "from llama_index.core.postprocessor import SimilarityPostprocessor\n",
    "\n",
    "retriever = VectorIndexRetriever(index=index, similarity_top_k=4)\n",
    "postprocessor = SimilarityPostprocessor(similarity_cutoff=0.80)\n",
    "# Custom Query Engine with Top K results\n",
    "query_engine = RetrieverQueryEngine(retriever=retriever,\n",
    "                                    node_postprocessors=[postprocessor])"
   ]
  },
  {
   "cell_type": "code",
   "execution_count": 23,
   "metadata": {},
   "outputs": [],
   "source": [
    "response = query_engine.query(\"What are the symptoms of database failure\")"
   ]
  },
  {
   "cell_type": "code",
   "execution_count": 24,
   "metadata": {},
   "outputs": [
    {
     "name": "stdout",
     "output_type": "stream",
     "text": [
      "Final Response: Symptoms of database failure include alerts related to\n",
      "database connectivity problems in the monitoring system, error\n",
      "messages like \"Unable to connect to database,\" \"Connection refused,\"\n",
      "or \"Timeout\" in application logs, and user reports of issues such as\n",
      "\"unable to retrieve data,\" \"database timeout,\" or \"application errors\n",
      "related to data retrieval.\"\n",
      "______________________________________________________________________\n",
      "Source Node 1/1\n",
      "Node ID: 71d18746-0901-4373-bea9-d57f5344baf9\n",
      "Similarity: 0.8132135649167415\n",
      "Text: issues, and high CPU usage. Each section includes steps for\n",
      "identification, immediate actions, troubleshooting, and resolution.\n",
      "This document is intended for use by Site Reliability Engineers (SREs)\n",
      "and other technical staf f responsible for maintaining the reliability\n",
      "and performance of backend systems. Database Connection Failures\n",
      "Identificati...\n"
     ]
    }
   ],
   "source": [
    "from llama_index.core.response.pprint_utils import pprint_response\n",
    "\n",
    "pprint_response(response, show_source=True)"
   ]
  },
  {
   "cell_type": "markdown",
   "metadata": {},
   "source": [
    "# Persistant Storage"
   ]
  },
  {
   "cell_type": "code",
   "execution_count": 25,
   "metadata": {},
   "outputs": [
    {
     "name": "stderr",
     "output_type": "stream",
     "text": [
      "Parsing nodes: 100%|██████████| 18/18 [00:00<00:00, 1101.99it/s]\n",
      "Generating embeddings: 100%|██████████| 18/18 [00:01<00:00, 12.08it/s]\n"
     ]
    },
    {
     "name": "stdout",
     "output_type": "stream",
     "text": [
      "Symptoms of database failure include alerts related to database connectivity issues in the monitoring system, specific error messages like \"Unable to connect to database,\" \"Connection refused,\" or \"Timeout\" in application logs, and user reports of issues such as \"unable to retrieve data,\" \"database timeout,\" or \"application errors related to data retrieval.\"\n"
     ]
    }
   ],
   "source": [
    "import os\n",
    "from llama_index.core import (\n",
    "    VectorStoreIndex,\n",
    "    SimpleDirectoryReader,\n",
    "    StorageContext,\n",
    "    load_index_from_storage\n",
    ")\n",
    "\n",
    "PERSIST_DIR = \"./storage\"\n",
    "\n",
    "if not os.path.exists(PERSIST_DIR):\n",
    "    # load the documents and create the index\n",
    "    documents = SimpleDirectoryReader(\"pdfs\").load_data()\n",
    "    index = VectorStoreIndex.from_documents(documents, show_progress=True)\n",
    "    # store it for later\n",
    "    index.storage_context.persist(persist_dir=PERSIST_DIR)\n",
    "else:\n",
    "    # load the existing index\n",
    "    storage_context = StorageContext.from_defaults(persist_dir=PERSIST_DIR)\n",
    "    index = load_index_from_storage(storage_context)\n",
    "\n",
    "# either way we can now query the table\n",
    "query_engine = index.as_query_engine()\n",
    "response = query_engine.query(\"What are the symptoms of database failure\")\n",
    "print(response)\n"
   ]
  },
  {
   "cell_type": "code",
   "execution_count": null,
   "metadata": {},
   "outputs": [],
   "source": []
  }
 ],
 "metadata": {
  "kernelspec": {
   "display_name": "Python 3",
   "language": "python",
   "name": "python3"
  },
  "language_info": {
   "codemirror_mode": {
    "name": "ipython",
    "version": 3
   },
   "file_extension": ".py",
   "mimetype": "text/x-python",
   "name": "python",
   "nbconvert_exporter": "python",
   "pygments_lexer": "ipython3",
   "version": "3.9.18"
  }
 },
 "nbformat": 4,
 "nbformat_minor": 2
}
