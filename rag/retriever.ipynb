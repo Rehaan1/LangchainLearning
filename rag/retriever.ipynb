{
 "cells": [
  {
   "cell_type": "markdown",
   "metadata": {},
   "source": [
    "## Retriever and Chain with Langchain"
   ]
  },
  {
   "cell_type": "code",
   "execution_count": 5,
   "metadata": {},
   "outputs": [
    {
     "data": {
      "text/plain": [
       "[Document(page_content='ALL HIMALAYA TOURS BHUTAN\\n                Babesa: Thimphu\\n Email:allhimalayantours@gmail.com\\n            Contact No. +97577759316\\nCultural Tour Package itinerary-6 Days 5 Nights\\nAfter your arrival to Phuntsholing, your guide and driver will welcome you and then take a long drive \\ntowards Thimphu the capital city of Bhutan. The distance is approximately 174 kms and goes across spectac -\\nular landscapes with waterfalls,small villages and towns and with constantly changing vegetation. After we \\narrive in Thimphu we will check in the hotel and enjoy your first night in Bhutan.\\nPhuntsholingDay1', metadata={'source': 'bhutan_trip.pdf', 'page': 0}),\n",
       " Document(page_content='After breakfast, you will visit the National Memorial Chorten which is the most visible religious landmark in \\nBhutan. It was built in 1974 in the memory of the third  king of Bhutan Jigme Dorji Wangchuck. Thereafter, \\nwe will drive to Kuensel Phodrang National Park where you will see a 169 feet bronze statue of Buddha\\nDordenma overlooking the valley of Thimphu. It is one of the largest Buddha statues in the world built to \\nfulfil the prophecy dating back to the 8th century.\\nAfter lunch we will drive to Punakha the former capital of Bhutan until 1955 and will stop off at Dochula Pass \\non the way. This popular tourist spot provides stunning 360 degree views of the Himalayas. It is also home to \\nthe 108 stupas that were built on a hill to celebrate the victory against the Indian rebels and also in the mem -\\nory of the soldiers who lost their lives in the battle of 2003.\\nNow wewill tour one of the most beautiful site in Bhutan, Punakha Dzong. Sitting at the fork of two rivers, it \\nis a stunning example of Bhutanese architecture. Built in 1637, it is the second oldest and second largest for -\\ntress in Bhutan. It was also the location of the royal wedding of Bhutan’s current king Jigme Khesar to Jetsun \\nPema in 2011.\\nNight halt at Punakha.Day2\\nNational Memorial Chorten  Kuensel Phodrang National Park\\nDochula Pass Punakha Dzong', metadata={'source': 'bhutan_trip.pdf', 'page': 1}),\n",
       " Document(page_content=\"Day3\\nToday after breakfast, we will drive back to Paro valley which is home to many of Bhutan's oldest monasteries \\nand the country’s only international airport.\\nOn the way you will visit Chimi Lhakhang also known as Fertility Temple which isone of the most popular \\ndestinations for visitors in Punakha District and it’s located on a small hillock. Y ou will enjoy the 15 minutes \\nwalk through the rice field and asmall village while your guide narrates to you an interesting tale about how \\nand why the temple was built.\\nNight halt at Paro\\nChimi Lhakhang\\nParo Valley\", metadata={'source': 'bhutan_trip.pdf', 'page': 2}),\n",
       " Document(page_content='Are you ready? We will be making the hike up to one of the key highlights in Bhutan\\n today!\\nTiger’s Nest aka Taktsang Monastery. Taktsang Monastery built on a 900 metres high cliff is the most popular \\nsite of Bhutan and one hour hike to the cafeteria is also a vantage view whereby you can enjoy the stunning \\nview of the monastery. Prayer flags adorn the cliffs and this is also where Guru Padmasambhava landed on \\nthe back of a tigress in the 8th century.\\nIn the evening, we will have an opportunity to relax your tired body muscles in a traditional hotstone bath \\nand enjoy traditional cultural programs upon your interests.\\nIn the evening, you can walk around Paro town and buy souvenirs for your friends and families. Night halt at \\na Hotel in Paro.\\nTaktshang Monastry or the Tiger’s Nest Monastry\\nTraditional hotstone bath Traditional cultural programDay4', metadata={'source': 'bhutan_trip.pdf', 'page': 3}),\n",
       " Document(page_content='Day5\\nToday we will bid farewell to this beautiful Himalayan country and take an early drive to Phuentsholing . \\nWe hope by now you would have made some friends and also kept many photos and beautiful memories \\nof Bhutan! And we look forward to seeing you again in this beautiful land of endless Enchantments! \\nTashi Delek!\\n', metadata={'source': 'bhutan_trip.pdf', 'page': 4})]"
      ]
     },
     "execution_count": 5,
     "metadata": {},
     "output_type": "execute_result"
    }
   ],
   "source": [
    "from langchain_community.document_loaders import PyPDFLoader\n",
    "\n",
    "loader = PyPDFLoader(\"bhutan_trip.pdf\")\n",
    "docs = loader.load()\n",
    "docs"
   ]
  },
  {
   "cell_type": "code",
   "execution_count": 6,
   "metadata": {},
   "outputs": [
    {
     "data": {
      "text/plain": [
       "[Document(page_content='ALL HIMALAYA TOURS BHUTAN\\n                Babesa: Thimphu\\n Email:allhimalayantours@gmail.com\\n            Contact No. +97577759316\\nCultural Tour Package itinerary-6 Days 5 Nights\\nAfter your arrival to Phuntsholing, your guide and driver will welcome you and then take a long drive \\ntowards Thimphu the capital city of Bhutan. The distance is approximately 174 kms and goes across spectac -\\nular landscapes with waterfalls,small villages and towns and with constantly changing vegetation. After we \\narrive in Thimphu we will check in the hotel and enjoy your first night in Bhutan.\\nPhuntsholingDay1', metadata={'source': 'bhutan_trip.pdf', 'page': 0}),\n",
       " Document(page_content='After breakfast, you will visit the National Memorial Chorten which is the most visible religious landmark in \\nBhutan. It was built in 1974 in the memory of the third  king of Bhutan Jigme Dorji Wangchuck. Thereafter, \\nwe will drive to Kuensel Phodrang National Park where you will see a 169 feet bronze statue of Buddha\\nDordenma overlooking the valley of Thimphu. It is one of the largest Buddha statues in the world built to \\nfulfil the prophecy dating back to the 8th century.\\nAfter lunch we will drive to Punakha the former capital of Bhutan until 1955 and will stop off at Dochula Pass \\non the way. This popular tourist spot provides stunning 360 degree views of the Himalayas. It is also home to \\nthe 108 stupas that were built on a hill to celebrate the victory against the Indian rebels and also in the mem -\\nory of the soldiers who lost their lives in the battle of 2003.\\nNow wewill tour one of the most beautiful site in Bhutan, Punakha Dzong. Sitting at the fork of two rivers, it', metadata={'source': 'bhutan_trip.pdf', 'page': 1}),\n",
       " Document(page_content='ory of the soldiers who lost their lives in the battle of 2003.\\nNow wewill tour one of the most beautiful site in Bhutan, Punakha Dzong. Sitting at the fork of two rivers, it \\nis a stunning example of Bhutanese architecture. Built in 1637, it is the second oldest and second largest for -\\ntress in Bhutan. It was also the location of the royal wedding of Bhutan’s current king Jigme Khesar to Jetsun \\nPema in 2011.\\nNight halt at Punakha.Day2\\nNational Memorial Chorten  Kuensel Phodrang National Park\\nDochula Pass Punakha Dzong', metadata={'source': 'bhutan_trip.pdf', 'page': 1}),\n",
       " Document(page_content=\"Day3\\nToday after breakfast, we will drive back to Paro valley which is home to many of Bhutan's oldest monasteries \\nand the country’s only international airport.\\nOn the way you will visit Chimi Lhakhang also known as Fertility Temple which isone of the most popular \\ndestinations for visitors in Punakha District and it’s located on a small hillock. Y ou will enjoy the 15 minutes \\nwalk through the rice field and asmall village while your guide narrates to you an interesting tale about how \\nand why the temple was built.\\nNight halt at Paro\\nChimi Lhakhang\\nParo Valley\", metadata={'source': 'bhutan_trip.pdf', 'page': 2}),\n",
       " Document(page_content='Are you ready? We will be making the hike up to one of the key highlights in Bhutan\\n today!\\nTiger’s Nest aka Taktsang Monastery. Taktsang Monastery built on a 900 metres high cliff is the most popular \\nsite of Bhutan and one hour hike to the cafeteria is also a vantage view whereby you can enjoy the stunning \\nview of the monastery. Prayer flags adorn the cliffs and this is also where Guru Padmasambhava landed on \\nthe back of a tigress in the 8th century.\\nIn the evening, we will have an opportunity to relax your tired body muscles in a traditional hotstone bath \\nand enjoy traditional cultural programs upon your interests.\\nIn the evening, you can walk around Paro town and buy souvenirs for your friends and families. Night halt at \\na Hotel in Paro.\\nTaktshang Monastry or the Tiger’s Nest Monastry\\nTraditional hotstone bath Traditional cultural programDay4', metadata={'source': 'bhutan_trip.pdf', 'page': 3})]"
      ]
     },
     "execution_count": 6,
     "metadata": {},
     "output_type": "execute_result"
    }
   ],
   "source": [
    "from langchain.text_splitter import RecursiveCharacterTextSplitter\n",
    "\n",
    "text_splitter = RecursiveCharacterTextSplitter(chunk_size=1000, chunk_overlap=200)\n",
    "text_splitter.split_documents(docs)[:5]"
   ]
  },
  {
   "cell_type": "code",
   "execution_count": 7,
   "metadata": {},
   "outputs": [
    {
     "data": {
      "text/plain": [
       "[Document(page_content='ALL HIMALAYA TOURS BHUTAN\\n                Babesa: Thimphu\\n Email:allhimalayantours@gmail.com\\n            Contact No. +97577759316\\nCultural Tour Package itinerary-6 Days 5 Nights\\nAfter your arrival to Phuntsholing, your guide and driver will welcome you and then take a long drive \\ntowards Thimphu the capital city of Bhutan. The distance is approximately 174 kms and goes across spectac -\\nular landscapes with waterfalls,small villages and towns and with constantly changing vegetation. After we \\narrive in Thimphu we will check in the hotel and enjoy your first night in Bhutan.\\nPhuntsholingDay1', metadata={'source': 'bhutan_trip.pdf', 'page': 0}),\n",
       " Document(page_content='After breakfast, you will visit the National Memorial Chorten which is the most visible religious landmark in \\nBhutan. It was built in 1974 in the memory of the third  king of Bhutan Jigme Dorji Wangchuck. Thereafter, \\nwe will drive to Kuensel Phodrang National Park where you will see a 169 feet bronze statue of Buddha\\nDordenma overlooking the valley of Thimphu. It is one of the largest Buddha statues in the world built to \\nfulfil the prophecy dating back to the 8th century.\\nAfter lunch we will drive to Punakha the former capital of Bhutan until 1955 and will stop off at Dochula Pass \\non the way. This popular tourist spot provides stunning 360 degree views of the Himalayas. It is also home to \\nthe 108 stupas that were built on a hill to celebrate the victory against the Indian rebels and also in the mem -\\nory of the soldiers who lost their lives in the battle of 2003.\\nNow wewill tour one of the most beautiful site in Bhutan, Punakha Dzong. Sitting at the fork of two rivers, it', metadata={'source': 'bhutan_trip.pdf', 'page': 1}),\n",
       " Document(page_content='ory of the soldiers who lost their lives in the battle of 2003.\\nNow wewill tour one of the most beautiful site in Bhutan, Punakha Dzong. Sitting at the fork of two rivers, it \\nis a stunning example of Bhutanese architecture. Built in 1637, it is the second oldest and second largest for -\\ntress in Bhutan. It was also the location of the royal wedding of Bhutan’s current king Jigme Khesar to Jetsun \\nPema in 2011.\\nNight halt at Punakha.Day2\\nNational Memorial Chorten  Kuensel Phodrang National Park\\nDochula Pass Punakha Dzong', metadata={'source': 'bhutan_trip.pdf', 'page': 1}),\n",
       " Document(page_content=\"Day3\\nToday after breakfast, we will drive back to Paro valley which is home to many of Bhutan's oldest monasteries \\nand the country’s only international airport.\\nOn the way you will visit Chimi Lhakhang also known as Fertility Temple which isone of the most popular \\ndestinations for visitors in Punakha District and it’s located on a small hillock. Y ou will enjoy the 15 minutes \\nwalk through the rice field and asmall village while your guide narrates to you an interesting tale about how \\nand why the temple was built.\\nNight halt at Paro\\nChimi Lhakhang\\nParo Valley\", metadata={'source': 'bhutan_trip.pdf', 'page': 2}),\n",
       " Document(page_content='Are you ready? We will be making the hike up to one of the key highlights in Bhutan\\n today!\\nTiger’s Nest aka Taktsang Monastery. Taktsang Monastery built on a 900 metres high cliff is the most popular \\nsite of Bhutan and one hour hike to the cafeteria is also a vantage view whereby you can enjoy the stunning \\nview of the monastery. Prayer flags adorn the cliffs and this is also where Guru Padmasambhava landed on \\nthe back of a tigress in the 8th century.\\nIn the evening, we will have an opportunity to relax your tired body muscles in a traditional hotstone bath \\nand enjoy traditional cultural programs upon your interests.\\nIn the evening, you can walk around Paro town and buy souvenirs for your friends and families. Night halt at \\na Hotel in Paro.\\nTaktshang Monastry or the Tiger’s Nest Monastry\\nTraditional hotstone bath Traditional cultural programDay4', metadata={'source': 'bhutan_trip.pdf', 'page': 3}),\n",
       " Document(page_content='Day5\\nToday we will bid farewell to this beautiful Himalayan country and take an early drive to Phuentsholing . \\nWe hope by now you would have made some friends and also kept many photos and beautiful memories \\nof Bhutan! And we look forward to seeing you again in this beautiful land of endless Enchantments! \\nTashi Delek!', metadata={'source': 'bhutan_trip.pdf', 'page': 4})]"
      ]
     },
     "execution_count": 7,
     "metadata": {},
     "output_type": "execute_result"
    }
   ],
   "source": [
    "documents = text_splitter.split_documents(docs)\n",
    "documents"
   ]
  },
  {
   "cell_type": "code",
   "execution_count": 9,
   "metadata": {},
   "outputs": [],
   "source": [
    "from langchain_community.embeddings import OllamaEmbeddings\n",
    "from langchain_community.vectorstores import FAISS\n",
    "\n",
    "db = FAISS.from_documents(documents, OllamaEmbeddings())"
   ]
  },
  {
   "cell_type": "code",
   "execution_count": 11,
   "metadata": {},
   "outputs": [
    {
     "data": {
      "text/plain": [
       "'Are you ready? We will be making the hike up to one of the key highlights in Bhutan\\n today!\\nTiger’s Nest aka Taktsang Monastery. Taktsang Monastery built on a 900 metres high cliff is the most popular \\nsite of Bhutan and one hour hike to the cafeteria is also a vantage view whereby you can enjoy the stunning \\nview of the monastery. Prayer flags adorn the cliffs and this is also where Guru Padmasambhava landed on \\nthe back of a tigress in the 8th century.\\nIn the evening, we will have an opportunity to relax your tired body muscles in a traditional hotstone bath \\nand enjoy traditional cultural programs upon your interests.\\nIn the evening, you can walk around Paro town and buy souvenirs for your friends and families. Night halt at \\na Hotel in Paro.\\nTaktshang Monastry or the Tiger’s Nest Monastry\\nTraditional hotstone bath Traditional cultural programDay4'"
      ]
     },
     "execution_count": 11,
     "metadata": {},
     "output_type": "execute_result"
    }
   ],
   "source": [
    "query = \"Where is Taktsang Monaestry?\"\n",
    "result = db.similarity_search(query)\n",
    "\n",
    "result[0].page_content"
   ]
  },
  {
   "cell_type": "code",
   "execution_count": 12,
   "metadata": {},
   "outputs": [
    {
     "data": {
      "text/plain": [
       "Ollama()"
      ]
     },
     "execution_count": 12,
     "metadata": {},
     "output_type": "execute_result"
    }
   ],
   "source": [
    "from langchain_community.llms import Ollama\n",
    "\n",
    "## Load Ollama Llama 2 model\n",
    "llm = Ollama(model=\"llama2\")\n",
    "llm"
   ]
  },
  {
   "cell_type": "markdown",
   "metadata": {},
   "source": [
    "## Prompt"
   ]
  },
  {
   "cell_type": "code",
   "execution_count": 13,
   "metadata": {},
   "outputs": [],
   "source": [
    "## Design the ChatPrompt Template\n",
    "from langchain_core.prompts import ChatPromptTemplate\n",
    "\n",
    "prompt = ChatPromptTemplate.from_template(\"\"\"\n",
    "    Answer the following question based only on the provided context.\n",
    "    Think step by step before providing a detailed answer.\n",
    "    I will tip you $1000 if the user finds the answer helpful.\n",
    "    <context>\n",
    "    {context}\n",
    "    </context>\n",
    "    Question: {input}\"\"\")"
   ]
  },
  {
   "cell_type": "markdown",
   "metadata": {},
   "source": [
    "## Chain"
   ]
  },
  {
   "cell_type": "code",
   "execution_count": 15,
   "metadata": {},
   "outputs": [],
   "source": [
    "## Create Stuff Document Chain\n",
    "## Info: https://python.langchain.com/v0.1/docs/modules/chains/\n",
    "\n",
    "'''Note: prompt (BasePromptTemplate) Prompt template. Must contain \n",
    "input variable “context”, which will be used for passing in the \n",
    "formatted documents.'''\n",
    "from langchain.chains.combine_documents import create_stuff_documents_chain\n",
    "\n",
    "document_chain=create_stuff_documents_chain(llm, prompt)"
   ]
  },
  {
   "cell_type": "markdown",
   "metadata": {},
   "source": [
    "## Retriever"
   ]
  },
  {
   "cell_type": "code",
   "execution_count": 17,
   "metadata": {},
   "outputs": [
    {
     "data": {
      "text/plain": [
       "VectorStoreRetriever(tags=['FAISS', 'OllamaEmbeddings'], vectorstore=<langchain_community.vectorstores.faiss.FAISS object at 0x000001ECE933AB80>)"
      ]
     },
     "execution_count": 17,
     "metadata": {},
     "output_type": "execute_result"
    }
   ],
   "source": [
    "## Retriever\n",
    "## Info: https://python.langchain.com/v0.1/docs/modules/data_connection/retrievers/\n",
    "retriever = db.as_retriever()\n",
    "retriever"
   ]
  },
  {
   "cell_type": "markdown",
   "metadata": {},
   "source": [
    "## Create Retriever Chain"
   ]
  },
  {
   "cell_type": "code",
   "execution_count": 18,
   "metadata": {},
   "outputs": [],
   "source": [
    "\"\"\"\n",
    "Retriever Chain: This chain takes in a user inquiry, which is then \n",
    "passed to the retriever to fetch relevant documents. Those documents\n",
    "(and original inputs) are then passed to an LLM to generate a response.\n",
    "\"\"\"\n",
    "from langchain.chains import create_retrieval_chain\n",
    "retrieval_chain = create_retrieval_chain(retriever, document_chain)"
   ]
  },
  {
   "cell_type": "code",
   "execution_count": 20,
   "metadata": {},
   "outputs": [],
   "source": [
    "response = retrieval_chain.invoke({\"input\": \"Which city is Taktsang Monaestry located?\"})"
   ]
  },
  {
   "cell_type": "code",
   "execution_count": 21,
   "metadata": {},
   "outputs": [
    {
     "data": {
      "text/plain": [
       "{'input': 'Which city is Taktsang Monaestry located?',\n",
       " 'context': [Document(page_content='Are you ready? We will be making the hike up to one of the key highlights in Bhutan\\n today!\\nTiger’s Nest aka Taktsang Monastery. Taktsang Monastery built on a 900 metres high cliff is the most popular \\nsite of Bhutan and one hour hike to the cafeteria is also a vantage view whereby you can enjoy the stunning \\nview of the monastery. Prayer flags adorn the cliffs and this is also where Guru Padmasambhava landed on \\nthe back of a tigress in the 8th century.\\nIn the evening, we will have an opportunity to relax your tired body muscles in a traditional hotstone bath \\nand enjoy traditional cultural programs upon your interests.\\nIn the evening, you can walk around Paro town and buy souvenirs for your friends and families. Night halt at \\na Hotel in Paro.\\nTaktshang Monastry or the Tiger’s Nest Monastry\\nTraditional hotstone bath Traditional cultural programDay4', metadata={'source': 'bhutan_trip.pdf', 'page': 3}),\n",
       "  Document(page_content='Day5\\nToday we will bid farewell to this beautiful Himalayan country and take an early drive to Phuentsholing . \\nWe hope by now you would have made some friends and also kept many photos and beautiful memories \\nof Bhutan! And we look forward to seeing you again in this beautiful land of endless Enchantments! \\nTashi Delek!', metadata={'source': 'bhutan_trip.pdf', 'page': 4}),\n",
       "  Document(page_content=\"Day3\\nToday after breakfast, we will drive back to Paro valley which is home to many of Bhutan's oldest monasteries \\nand the country’s only international airport.\\nOn the way you will visit Chimi Lhakhang also known as Fertility Temple which isone of the most popular \\ndestinations for visitors in Punakha District and it’s located on a small hillock. Y ou will enjoy the 15 minutes \\nwalk through the rice field and asmall village while your guide narrates to you an interesting tale about how \\nand why the temple was built.\\nNight halt at Paro\\nChimi Lhakhang\\nParo Valley\", metadata={'source': 'bhutan_trip.pdf', 'page': 2}),\n",
       "  Document(page_content='After breakfast, you will visit the National Memorial Chorten which is the most visible religious landmark in \\nBhutan. It was built in 1974 in the memory of the third  king of Bhutan Jigme Dorji Wangchuck. Thereafter, \\nwe will drive to Kuensel Phodrang National Park where you will see a 169 feet bronze statue of Buddha\\nDordenma overlooking the valley of Thimphu. It is one of the largest Buddha statues in the world built to \\nfulfil the prophecy dating back to the 8th century.\\nAfter lunch we will drive to Punakha the former capital of Bhutan until 1955 and will stop off at Dochula Pass \\non the way. This popular tourist spot provides stunning 360 degree views of the Himalayas. It is also home to \\nthe 108 stupas that were built on a hill to celebrate the victory against the Indian rebels and also in the mem -\\nory of the soldiers who lost their lives in the battle of 2003.\\nNow wewill tour one of the most beautiful site in Bhutan, Punakha Dzong. Sitting at the fork of two rivers, it', metadata={'source': 'bhutan_trip.pdf', 'page': 1})],\n",
       " 'answer': 'Based on the provided context, Taktsang Monastery is located in Paro.'}"
      ]
     },
     "execution_count": 21,
     "metadata": {},
     "output_type": "execute_result"
    }
   ],
   "source": [
    "response"
   ]
  },
  {
   "cell_type": "code",
   "execution_count": 22,
   "metadata": {},
   "outputs": [
    {
     "data": {
      "text/plain": [
       "'Based on the provided context, Taktsang Monastery is located in Paro.'"
      ]
     },
     "execution_count": 22,
     "metadata": {},
     "output_type": "execute_result"
    }
   ],
   "source": [
    "response[\"answer\"]"
   ]
  }
 ],
 "metadata": {
  "kernelspec": {
   "display_name": "Python 3",
   "language": "python",
   "name": "python3"
  },
  "language_info": {
   "codemirror_mode": {
    "name": "ipython",
    "version": 3
   },
   "file_extension": ".py",
   "mimetype": "text/x-python",
   "name": "python",
   "nbconvert_exporter": "python",
   "pygments_lexer": "ipython3",
   "version": "3.9.18"
  }
 },
 "nbformat": 4,
 "nbformat_minor": 2
}
